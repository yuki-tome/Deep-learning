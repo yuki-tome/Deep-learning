{
 "cells": [
  {
   "cell_type": "markdown",
   "metadata": {},
   "source": [
    "# Assignment 4.\n",
    "\n",
    "## Student Name/ID: Yuki Tome/m5271046\n"
   ]
  },
  {
   "cell_type": "markdown",
   "metadata": {},
   "source": [
    "---"
   ]
  },
  {
   "cell_type": "markdown",
   "metadata": {},
   "source": [
    "## Create RNN using PyTorch `nn` Module\n",
    "\n",
    "The aim of this assignment is to create an RNN with same structure as in the Problem 1 of Exercise 4, but using the PyTorch `nn` module."
   ]
  },
  {
   "cell_type": "markdown",
   "metadata": {},
   "source": [
    "---"
   ]
  },
  {
   "cell_type": "markdown",
   "metadata": {},
   "source": [
    "As always, first, we import the necessary python libraries and do little housekeeping."
   ]
  },
  {
   "cell_type": "code",
   "execution_count": 1,
   "metadata": {},
   "outputs": [],
   "source": [
    "import torch\n",
    "import torch.nn as nn\n",
    "import numpy as np\n",
    "\n",
    "import matplotlib.pyplot as plt\n",
    "\n",
    "# Set the random seed to 0\n",
    "np.random.seed(0)\n",
    "torch.manual_seed(0)\n",
    "\n",
    "# Get PyTorch float type\n",
    "dtype = torch.float"
   ]
  },
  {
   "cell_type": "markdown",
   "metadata": {},
   "source": [
    "Data generation is the same ..."
   ]
  },
  {
   "cell_type": "code",
   "execution_count": 2,
   "metadata": {},
   "outputs": [],
   "source": [
    "def DataGen(seq_length):\n",
    "\n",
    "    # seq_length - Length of the sine wave (in points)\n",
    "\n",
    "    # Generate time sequence\n",
    "    data_time_steps = np.linspace(2, 10, seq_length + 1)\n",
    "\n",
    "    # Generate sine wave\n",
    "    data = np.sin(data_time_steps)\n",
    "\n",
    "    # Reshape as one column vector\n",
    "    data.resize((seq_length + 1, 1))\n",
    "\n",
    "    # Make input tensor\n",
    "    x = torch.tensor(data[:-1], dtype=dtype, requires_grad=False)\n",
    "\n",
    "    # Make target tensor (shifted input by one sample)\n",
    "    y = torch.tensor(data[1:], dtype=dtype, requires_grad=False)\n",
    "\n",
    "    return x, y, data_time_steps"
   ]
  },
  {
   "cell_type": "markdown",
   "metadata": {},
   "source": [
    "### Problem 1 ###\n",
    "\n",
    "Create the same RNN as in Part 1 of the Exercise 4. This time use `nn.Linear` to make the network layers. The structure should be like this:\n",
    "\n",
    "- Layer 1: (i2h) input-to-hidden\n",
    "  - linear\n",
    "  - input size = data size + (previous) hidden size, \n",
    "  - output size = hidden size\n",
    "  - activation = tanh\n",
    "- Layer 2: (h2o) hidden-to-output \n",
    "  - linear\n",
    "  - input size = hidden size\n",
    "  - output size = RNN output size\n",
    "  - no activation"
   ]
  },
  {
   "cell_type": "code",
   "execution_count": 4,
   "metadata": {},
   "outputs": [],
   "source": [
    "class RNN(nn.Module):\n",
    "    def __init__(self, data_size, hidden_size, output_size):\n",
    "        super(RNN, self).__init__()\n",
    "\n",
    "        # Set the first layer size and remeber hidden layer size\n",
    "        # !! Your code here !!\n",
    "        self.hidden_size = hidden_size\n",
    "\n",
    "        # Create i2h and h2o layers\n",
    "        # !!Your code here !!\n",
    "        self.i2h = nn.Linear(data_size + hidden_size, hidden_size)\n",
    "        self.h2o = nn.Linear(hidden_size, output_size)\n",
    "        \n",
    "    def forward(self, input, hidden):\n",
    "        # Make the forward computation\n",
    "        # !!Your code here !!\n",
    "        combined = torch.cat((input, hidden), 1)\n",
    "        hidden = torch.tanh(self.i2h(combined))\n",
    "        output = self.h2o(hidden)\n",
    "\n",
    "        return output, hidden\n",
    "\n",
    "    def initHidden(self):\n",
    "        # Initialize hidden layer\n",
    "        return torch.zeros(1, self.hidden_size)\n",
    "\n",
    "    def UpdateParams(self, learning_rate):\n",
    "        # Update RNN parameters\n",
    "        # !!Your code here !!\n",
    "        with torch.no_grad():\n",
    "            for p in self.parameters():\n",
    "                p -= p.grad * learning_rate\n",
    "                p.grad.zero_()"
   ]
  },
  {
   "cell_type": "markdown",
   "metadata": {},
   "source": [
    "Now, choose appropriate loss fuinction."
   ]
  },
  {
   "cell_type": "code",
   "execution_count": 5,
   "metadata": {},
   "outputs": [],
   "source": [
    "# !!Your code here !!\n",
    "loss_fn = torch.nn.MSELoss()"
   ]
  },
  {
   "cell_type": "markdown",
   "metadata": {},
   "source": [
    "Define the training procedure:"
   ]
  },
  {
   "cell_type": "code",
   "execution_count": 6,
   "metadata": {},
   "outputs": [],
   "source": [
    "def train(model, x, y, epochs, lr):\n",
    "\n",
    "    timesteps = x.size(0)\n",
    "\n",
    "    for i in range(epochs):\n",
    "\n",
    "        # Initialize total loss\n",
    "        # !!Your code here !!\n",
    "        loss = 0\n",
    "        \n",
    "        # Zero the gradients\n",
    "        # !!Your code here !!\n",
    "        model.zero_grad()\n",
    "        \n",
    "        # the hidden state vector\n",
    "        # !!Your code here !!\n",
    "        previous_hidden = model.initHidden()\n",
    "        \n",
    "        for j in range(timesteps):\n",
    "\n",
    "            # Get input and target for the current timestep\n",
    "            input = x[j:(j+1)]\n",
    "            target = y[j:(j+1)]\n",
    "\n",
    "            # Forward operation\n",
    "            pred, previous_hidden = model.forward(input, previous_hidden)\n",
    "\n",
    "            # Summ losses for each timestep\n",
    "            loss += loss_fn(pred, target)\n",
    "\n",
    "        if i % 50 == 0:\n",
    "            print(\"Epoch: {} loss {}\".format(i, loss.data.numpy()))\n",
    "\n",
    "        # Calculate gradients\n",
    "        # !!Your code here !!\n",
    "        loss.backward()\n",
    "\n",
    "        # Update parameters\n",
    "        # !!Your code here !!\n",
    "        model.UpdateParams(lr)"
   ]
  },
  {
   "cell_type": "markdown",
   "metadata": {},
   "source": [
    "Set the training parameters and train the RNN."
   ]
  },
  {
   "cell_type": "code",
   "execution_count": 7,
   "metadata": {},
   "outputs": [
    {
     "name": "stdout",
     "output_type": "stream",
     "text": [
      "Epoch: 0 loss 7.812979698181152\n",
      "Epoch: 50 loss 0.3788180351257324\n",
      "Epoch: 100 loss 0.13730104267597198\n",
      "Epoch: 150 loss 0.06913137435913086\n",
      "Epoch: 200 loss 0.04229843616485596\n",
      "Epoch: 250 loss 0.03021116927266121\n"
     ]
    }
   ],
   "source": [
    "input_size, hidden_size, output_size = 1, 6, 1\n",
    "epochs = 300\n",
    "seq_length = 20\n",
    "lr = 0.005\n",
    "\n",
    "x, y, time_steps = DataGen(seq_length)\n",
    "\n",
    "rnn = RNN(input_size, hidden_size, output_size)\n",
    "\n",
    "train(rnn, x, y, epochs, lr)"
   ]
  },
  {
   "cell_type": "markdown",
   "metadata": {},
   "source": [
    "### Problem 2 ###\n",
    "\n",
    "Make predictions with the trained RNN and then generate a sine wave."
   ]
  },
  {
   "cell_type": "code",
   "execution_count": 8,
   "metadata": {},
   "outputs": [],
   "source": [
    "def predict(model, x):\n",
    "\n",
    "    predictions = []\n",
    "    previous_hidden = model.initHidden()\n",
    "\n",
    "    timesteps = x.size(0)\n",
    "\n",
    "    for i in range(timesteps):\n",
    "\n",
    "        # Make the predictioon loop\n",
    "        # !!Your code here !!\n",
    "        input = x[i:(i+1)]\n",
    "        pred, previous_hidden = model.forward(input, previous_hidden)\n",
    "        predictions.append(pred.detach().numpy())\n",
    "\n",
    "    return predictions\n",
    "\n",
    "pred = predict (rnn, x)"
   ]
  },
  {
   "cell_type": "markdown",
   "metadata": {},
   "source": [
    "Plot the result."
   ]
  },
  {
   "cell_type": "code",
   "execution_count": 9,
   "metadata": {},
   "outputs": [
    {
     "data": {
      "image/png": "[encoded data removed]",
      "text/plain": [
       "<Figure size 640x480 with 1 Axes>"
      ]
     },
     "metadata": {},
     "output_type": "display_data"
    }
   ],
   "source": [
    "plt.scatter(time_steps[:-1], x.data.numpy(), s=90, label=\"Actual\")\n",
    "plt.scatter(time_steps[1:], pred, label=\"Predicted\")\n",
    "plt.legend()\n",
    "plt.show()"
   ]
  },
  {
   "cell_type": "markdown",
   "metadata": {},
   "source": [
    "Make function to generate sine wave."
   ]
  },
  {
   "cell_type": "code",
   "execution_count": 11,
   "metadata": {},
   "outputs": [],
   "source": [
    "def Generate(model, input, timesteps=20):\n",
    "\n",
    "    # Initialize list of generated values\n",
    "    generated = []\n",
    "\n",
    "    # Initialize the hidden state vector\n",
    "    previous_hidden = model.initHidden()\n",
    "\n",
    "    # Set the first input point\n",
    "    pred = input\n",
    "\n",
    "    # Loop over the desired sequence length\n",
    "    for i in range(timesteps):\n",
    "\n",
    "        # Make generation loop\n",
    "        # !!Your code here !!\n",
    "        pred, previous_hidden = model.forward(pred, previous_hidden)\n",
    "        generated.append(pred.detach().numpy())\n",
    "\n",
    "    return generated\n",
    "\n",
    "\n",
    "inp = torch.rand((1, 1), dtype=dtype, requires_grad=False)\n",
    "gen = Generate(rnn, inp)"
   ]
  },
  {
   "cell_type": "markdown",
   "metadata": {},
   "source": [
    "Plot the result."
   ]
  },
  {
   "cell_type": "code",
   "execution_count": 12,
   "metadata": {},
   "outputs": [
    {
     "data": {
      "image/png": "[encoded data removed]",
      "text/plain": [
       "<Figure size 640x480 with 1 Axes>"
      ]
     },
     "metadata": {},
     "output_type": "display_data"
    }
   ],
   "source": [
    "# Plot generated points\n",
    "plt.scatter(time_steps[1:], gen, label=\"Generated\")\n",
    "plt.legend()\n",
    "plt.show()"
   ]
  },
  {
   "cell_type": "markdown",
   "metadata": {},
   "source": [
    "---"
   ]
  }
 ],
 "metadata": {
  "kernelspec": {
   "display_name": "Python 3 (ipykernel)",
   "language": "python",
   "name": "python3"
  },
  "language_info": {
   "codemirror_mode": {
    "name": "ipython",
    "version": 3
   },
   "file_extension": ".py",
   "mimetype": "text/x-python",
   "name": "python",
   "nbconvert_exporter": "python",
   "pygments_lexer": "ipython3",
   "version": "3.11.3"
  }
 },
 "nbformat": 4,
 "nbformat_minor": 4
}
