{
 "cells": [
  {
   "cell_type": "markdown",
   "metadata": {},
   "source": [
    "# Assignment 3.\n",
    "\n",
    "## Student Name/ID: YukiTome/m5271046\n"
   ]
  },
  {
   "cell_type": "markdown",
   "metadata": {},
   "source": [
    "---"
   ]
  },
  {
   "cell_type": "markdown",
   "metadata": {
    "tags": []
   },
   "source": [
    "## Create Convolutional Neural network using PyTorch\n",
    "\n",
    "The aim of this assignment is to create improved version, comparing to the one used in exercise 3, using PyTorch library."
   ]
  },
  {
   "cell_type": "code",
   "execution_count": 1,
   "metadata": {},
   "outputs": [],
   "source": [
    "import torch\n",
    "from torch import nn\n",
    "import numpy as np\n",
    "import math\n",
    "import matplotlib.pyplot as plt\n",
    "import h5py\n",
    "\n",
    "%matplotlib inline"
   ]
  },
  {
   "cell_type": "code",
   "execution_count": 2,
   "metadata": {},
   "outputs": [],
   "source": [
    "torch.manual_seed(2)  # we set up a seed so that your output matches ours although the initialization is random.\n",
    "dtype = torch.float\n",
    "device = torch.device(\"cuda:0\" if torch.cuda.is_available() else \"cpu\")"
   ]
  },
  {
   "cell_type": "markdown",
   "metadata": {},
   "source": [
    "Next, we need to define helper functions to load data. "
   ]
  },
  {
   "cell_type": "code",
   "execution_count": 3,
   "metadata": {},
   "outputs": [],
   "source": [
    "def load_dataset():\n",
    "    train_dataset = h5py.File('/datasets/train_signs.h5', \"r\")\n",
    "    train_set_x_orig = np.array(train_dataset[\"train_set_x\"][:])  # your train set features\n",
    "    train_set_y_orig = np.array(train_dataset[\"train_set_y\"][:])  # your train set labels\n",
    "\n",
    "    test_dataset = h5py.File('/datasets/test_signs.h5', \"r\")\n",
    "    test_set_x_orig = np.array(test_dataset[\"test_set_x\"][:])  # your test set features\n",
    "    test_set_y_orig = np.array(test_dataset[\"test_set_y\"][:])  # your test set labels\n",
    "\n",
    "    classes = np.array(test_dataset[\"list_classes\"][:])  # the list of classes\n",
    "\n",
    "    train_set_y_orig = train_set_y_orig.reshape((1, train_set_y_orig.shape[0]))\n",
    "    test_set_y_orig = test_set_y_orig.reshape((1, test_set_y_orig.shape[0]))\n",
    "\n",
    "    return train_set_x_orig, train_set_y_orig, test_set_x_orig, test_set_y_orig, classes"
   ]
  },
  {
   "cell_type": "code",
   "execution_count": 4,
   "metadata": {},
   "outputs": [],
   "source": [
    "# Loading the data (signs)\n",
    "train_set_x_orig, train_set_y_orig, test_set_x_orig, test_set_y_orig, classes = load_dataset()"
   ]
  },
  {
   "cell_type": "markdown",
   "metadata": {},
   "source": [
    "In this assignment you will use the same dataset as in the exercise 3. \n",
    "\n",
    "The SIGNS dataset is a collection of 6 signs representing numbers from 0 to 5.\n",
    "\n",
    "The next cell will show you an example of a labelled image in the dataset. Feel free to change the value of `index` below and re-run to see different examples. "
   ]
  },
  {
   "cell_type": "code",
   "execution_count": 5,
   "metadata": {},
   "outputs": [
    {
     "name": "stdout",
     "output_type": "stream",
     "text": [
      "y = 1\n"
     ]
    },
    {
     "data": {
      "image/png": "[encoded data removed]",
      "text/plain": [
       "<Figure size 640x480 with 1 Axes>"
      ]
     },
     "metadata": {},
     "output_type": "display_data"
    }
   ],
   "source": [
    "# Example of a picture\n",
    "index = 7\n",
    "plt.imshow(train_set_x_orig[index])\n",
    "print(\"y = \" + str(np.squeeze(train_set_y_orig[:, index])))"
   ]
  },
  {
   "cell_type": "markdown",
   "metadata": {},
   "source": [
    "Now, you can reshape and 'standardize' dataset."
   ]
  },
  {
   "cell_type": "code",
   "execution_count": 6,
   "metadata": {},
   "outputs": [
    {
     "name": "stdout",
     "output_type": "stream",
     "text": [
      "number of training examples = 1080\n",
      "number of test examples = 120\n",
      "X_train shape: (1080, 3, 64, 64)\n",
      "Y_train shape: (1080,)\n",
      "X_test shape: (120, 3, 64, 64)\n",
      "Y_test shape: (120,)\n"
     ]
    }
   ],
   "source": [
    "train_set_x = np.reshape(train_set_x_orig, (1080, 3, 64, 64))/255.\n",
    "test_set_x = np.reshape(test_set_x_orig, (120, 3, 64, 64))/255.\n",
    "train_set_y = np.reshape(train_set_y_orig, -1).T\n",
    "test_set_y = np.reshape(test_set_y_orig, -1).T\n",
    "\n",
    "print(\"number of training examples = \" + str(train_set_x.shape[0]))\n",
    "print(\"number of test examples = \" + str(test_set_x.shape[0]))\n",
    "print(\"X_train shape: \" + str(train_set_x.shape))\n",
    "print(\"Y_train shape: \" + str(train_set_y.shape))\n",
    "print(\"X_test shape: \" + str(test_set_x.shape))\n",
    "print(\"Y_test shape: \" + str(test_set_y.shape))"
   ]
  },
  {
   "cell_type": "markdown",
   "metadata": {},
   "source": [
    "In this assignment you will also train your model with mini-batches to speed up parameter training process.\n",
    "\n",
    "Here's helper function to split data into batches. This function will be implemented with numpy, and we will retrieve these batches later during training. So, PyTorch Tensors for training will be created after obtaining data with this function."
   ]
  },
  {
   "cell_type": "code",
   "execution_count": 7,
   "metadata": {},
   "outputs": [],
   "source": [
    "def random_mini_batches(X, Y, mini_batch_size=64, seed=0):\n",
    "    \"\"\"\n",
    "    Creates a list of random minibatches from (X, Y)\n",
    "\n",
    "    Arguments:\n",
    "    X -- input data, of shape (input size, number of examples) (m, Hi, Wi, Ci)\n",
    "    Y -- true \"label\" vector (containing 0 if cat, 1 if non-cat), of shape (1, number of examples) (m, n_y)\n",
    "    mini_batch_size - size of the mini-batches, integer\n",
    "    seed -- this is only for the purpose of grading, so that you're \"random minibatches are the same as ours.\n",
    "\n",
    "    Returns:\n",
    "    mini_batches -- list of synchronous (mini_batch_X, mini_batch_Y)\n",
    "    \"\"\"\n",
    "\n",
    "    m = X.shape[0]                  # number of training examples\n",
    "    mini_batches = []\n",
    "    np.random.seed(seed)\n",
    "\n",
    "    # Step 1: Shuffle (X, Y)\n",
    "    permutation = list(np.random.permutation(m))\n",
    "    shuffled_X = X[permutation, :, :, :]\n",
    "    shuffled_Y = Y[permutation]\n",
    "\n",
    "    # Step 2: Partition (shuffled_X, shuffled_Y). Minus the end case.\n",
    "    num_complete_minibatches = math.floor(m/mini_batch_size)  # number of mini batches of size mini_batch_size in your partitionning\n",
    "    for k in range(0, num_complete_minibatches):\n",
    "        mini_batch_X = shuffled_X[k * mini_batch_size: k * mini_batch_size + mini_batch_size, :, :, :]\n",
    "        mini_batch_Y = shuffled_Y[k * mini_batch_size: k * mini_batch_size + mini_batch_size]\n",
    "        mini_batch = (mini_batch_X, mini_batch_Y)\n",
    "        mini_batches.append(mini_batch)\n",
    "\n",
    "    # Handling the end case (last mini-batch < mini_batch_size)\n",
    "    if m % mini_batch_size != 0:\n",
    "        mini_batch_X = shuffled_X[num_complete_minibatches * mini_batch_size: m, :, :, :]\n",
    "        mini_batch_Y = shuffled_Y[num_complete_minibatches * mini_batch_size: m]\n",
    "        mini_batch = (mini_batch_X, mini_batch_Y)\n",
    "        mini_batches.append(mini_batch)\n",
    "\n",
    "    return mini_batches"
   ]
  },
  {
   "cell_type": "markdown",
   "metadata": {},
   "source": [
    "Now you can create Tensors for testing.\n",
    "\n",
    "**Hint**\n",
    "\n",
    "In previous week assignment and exercise Tensor type of input `x` and output `y` was the same, since binary cross-entropy function expects `FloatTensor` as target output `y`. In this week exercise and assignment we will use cross-entropy cost function, because number of classes in the SIGNS dataset is more than 2. This function expects `LongTensor` as target output `y`."
   ]
  },
  {
   "cell_type": "code",
   "execution_count": 8,
   "metadata": {},
   "outputs": [],
   "source": [
    "X_test = torch.tensor(test_set_x, device=device, dtype=dtype, requires_grad=False)\n",
    "Y_test = torch.tensor(test_set_y, device=device, dtype=torch.long)"
   ]
  },
  {
   "cell_type": "markdown",
   "metadata": {},
   "source": [
    "## Problem 1\n",
    "\n",
    "### Calculate padding\n",
    "\n",
    "As you can see in the exercise 3, padding size is hard coded in the model class. This might be very inconvenient during hyper-parameter fine-tuning.\n",
    "\n",
    "Define function `calculate_padding()` taking into account kernel size. NOTE: Assume that the stride is 2 and the output image should be two times smaller, i.e. 32x32 becomes 16x16."
   ]
  },
  {
   "cell_type": "code",
   "execution_count": 9,
   "metadata": {},
   "outputs": [],
   "source": [
    "def calculate_padding(kernel_size):\n",
    "    \"\"\"\n",
    "    Arguments:\n",
    "    kernel_size -- int, size of CNN kernel\n",
    "    Returns:\n",
    "    padding_size -- int, number of zeros to pad input.\n",
    "    \"\"\"\n",
    "\n",
    "    # Your code here !!\n",
    "    stride = 2\n",
    "    padding_size = math.ceil((kernel_size / stride) - 1)\n",
    "\n",
    "    return padding_size"
   ]
  },
  {
   "cell_type": "code",
   "execution_count": 10,
   "metadata": {},
   "outputs": [
    {
     "name": "stdout",
     "output_type": "stream",
     "text": [
      "Padding for kernel size = 11 is 5\n"
     ]
    }
   ],
   "source": [
    "print('Padding for kernel size = 11 is {}'.format(calculate_padding(11)))\n",
    "# Expected output: 5"
   ]
  },
  {
   "cell_type": "markdown",
   "metadata": {},
   "source": [
    "## Problem 2\n",
    "\n",
    "### Calculate the size of the last Linear layer\n",
    "\n",
    "Define function `output_layer_size()` given input_shape and list of strides used in the model."
   ]
  },
  {
   "cell_type": "code",
   "execution_count": 11,
   "metadata": {},
   "outputs": [],
   "source": [
    "def output_layer_size(input_shape, strides, last_filter):\n",
    "    \"\"\"\n",
    "    Arguments:\n",
    "    input_shape -- list of integers containing height and width of image\n",
    "    strides -- list of integers containing stride used in the model\n",
    "    last_filter -- int, number of output channels in the last Conv layer\n",
    "    Returns:\n",
    "    output_size -- int, size of input to the Linear layer\n",
    "    \"\"\"\n",
    "    output_height, output_width = input_shape\n",
    "\n",
    "    for stride in strides:\n",
    "        output_height = output_height / stride\n",
    "        output_width = output_width / stride\n",
    "\n",
    "    output_size = last_filter * output_height * output_width\n",
    "    \n",
    "    return int(output_size)"
   ]
  },
  {
   "cell_type": "code",
   "execution_count": 12,
   "metadata": {},
   "outputs": [
    {
     "name": "stdout",
     "output_type": "stream",
     "text": [
      "Output size of Conv model: 784\n"
     ]
    }
   ],
   "source": [
    "print('Output size of Conv model: {}'.format(output_layer_size([28, 28], [2, 2], 16)))\n",
    "# Expected output: 784"
   ]
  },
  {
   "cell_type": "markdown",
   "metadata": {},
   "source": [
    "## Problem 3\n",
    "\n",
    "### Create improved Conv model\n",
    "\n",
    "Here you need to create a class to defined improved Conv model. Your class should have similar structure as the one we created during exercise. \n",
    "\n",
    "Use functions we created in **Problem 1** and **Problem 2** to obtain correct codding and size of Linear output layer.\n",
    "\n",
    "This class will contain three layers:\n",
    "1. 2D convolutional layer `Conv2d` with `ReLu` activation function and [Batch Normalization](https://pytorch.org/docs/master/nn.html#normalization-layers), expects any kernel size,\n",
    "2. 2D convolutional layer `Conv2d` with `ReLu` activation function and [Batch Normalization](https://pytorch.org/docs/master/nn.html#normalization-layers), expects any kernel size,\n",
    "3. `Linear` layer without activation function."
   ]
  },
  {
   "cell_type": "code",
   "execution_count": 13,
   "metadata": {},
   "outputs": [],
   "source": [
    "class CNN(nn.Module):\n",
    "    def __init__(self, image_shape, filters, kernels, strides, n_out):\n",
    "        super(CNN, self).__init__()\n",
    "        \"\"\"\n",
    "        Arguments:\n",
    "        image_shape: python list containing shape of input image [channel, height, width]\n",
    "        filters: python list of integers, defining the number of filters in the Conv layers\n",
    "        kernels: python list of integers, defining kernel height and width\n",
    "        strides: python list of integers, defining stride for each Conv layer\n",
    "        n_out: number of output classes\n",
    "        \n",
    "        \"\"\"\n",
    "        # Your code here !!!\n",
    "        # Define 1st convolutional layer\n",
    "        padding1 = calculate_padding(kernels[0])\n",
    "        self.conv1 = nn.Sequential(\n",
    "            nn.Conv2d(image_shape[0], filters[0], kernel_size=kernels[0], stride=strides[0], padding=padding1),\n",
    "            nn.BatchNorm2d(filters[0]),\n",
    "            nn.ReLU()\n",
    "        )\n",
    "        \n",
    "        # Calculate the output shape after the 1st convolutional layer\n",
    "        output_shape1 = [image_shape[1] // strides[0], image_shape[2] // strides[0]]\n",
    "\n",
    "        # Define 2nd convolutional layer\n",
    "        padding2 = calculate_padding(kernels[1])\n",
    "        self.conv2 = nn.Sequential(\n",
    "            nn.Conv2d(filters[0], filters[1], kernel_size=kernels[1], stride=strides[1], padding=padding2),\n",
    "            nn.BatchNorm2d(filters[1]),\n",
    "            nn.ReLU()\n",
    "        )\n",
    "        \n",
    "        # Calculate the output shape after the 2nd convolutional layer\n",
    "        output_shape2 = [output_shape1[0] // strides[1], output_shape1[1] // strides[1]]\n",
    "        \n",
    "        # Calculate input size to linear layer\n",
    "        linear_input_size = output_layer_size(output_shape2, [1], filters[1])\n",
    "        \n",
    "        # Define the Linear layer\n",
    "        self.out = nn.Linear(linear_input_size, n_out)\n",
    "        \n",
    "        \n",
    "    def forward(self, x):\n",
    "        x = self.conv1(x)\n",
    "        x = self.conv2(x)\n",
    "        x = x.view(x.size(0), -1)  \n",
    "        output = self.out(x)\n",
    "        return output"
   ]
  },
  {
   "cell_type": "markdown",
   "metadata": {},
   "source": [
    "Now you can check your model by passing hyper-parameters to its class."
   ]
  },
  {
   "cell_type": "code",
   "execution_count": 14,
   "metadata": {},
   "outputs": [
    {
     "name": "stdout",
     "output_type": "stream",
     "text": [
      "CNN(\n",
      "  (conv1): Sequential(\n",
      "    (0): Conv2d(3, 8, kernel_size=(5, 5), stride=(2, 2), padding=(2, 2))\n",
      "    (1): BatchNorm2d(8, eps=1e-05, momentum=0.1, affine=True, track_running_stats=True)\n",
      "    (2): ReLU()\n",
      "  )\n",
      "  (conv2): Sequential(\n",
      "    (0): Conv2d(8, 32, kernel_size=(3, 3), stride=(2, 2), padding=(1, 1))\n",
      "    (1): BatchNorm2d(32, eps=1e-05, momentum=0.1, affine=True, track_running_stats=True)\n",
      "    (2): ReLU()\n",
      "  )\n",
      "  (out): Linear(in_features=8192, out_features=6, bias=True)\n",
      ")\n"
     ]
    }
   ],
   "source": [
    "# Declare hyper-parameters\n",
    "input_shape = train_set_x.shape\n",
    "filters = [8, 32]\n",
    "kernels = [5, 3]\n",
    "strides = [2, 2]\n",
    "n_out = int(Y_test.max().item()) + 1\n",
    "\n",
    "# Define model\n",
    "model = CNN(input_shape[1:], filters, kernels, strides, n_out)\n",
    "if torch.cuda.is_available():\n",
    "    model.cuda()\n",
    "\n",
    "print(model)\n",
    "# Expected output: CNN(conv1: Sequential(0:..., 1:..., 2:...),\n",
    "#                      conv2: Sequential(0:..., 1:..., 2:...), out: Linear...)"
   ]
  },
  {
   "cell_type": "markdown",
   "metadata": {},
   "source": [
    "Let's define loss function and optimizer."
   ]
  },
  {
   "cell_type": "code",
   "execution_count": 15,
   "metadata": {},
   "outputs": [],
   "source": [
    "loss_func = torch.nn.CrossEntropyLoss()\n",
    "optimizer = torch.optim.Adam(model.parameters(), lr=0.005)"
   ]
  },
  {
   "cell_type": "markdown",
   "metadata": {},
   "source": [
    "**Define training loop**\n",
    "\n",
    "Now everything is ready to define our training loop using `model`, `loss` and `optimizer` created above. We don't need to pass those as parameters of train function, since they are declared as part of PyTorch computational Graph."
   ]
  },
  {
   "cell_type": "code",
   "execution_count": 16,
   "metadata": {},
   "outputs": [],
   "source": [
    "def train(train_x, train_y, X_test, Y_test, minibatch_size=64, num_epochs=20, seed=3):\n",
    "    \"\"\"\n",
    "    Arguments:\n",
    "    train_x -- numpy.array, training input,\n",
    "    train_y -- numpy.array, training output target,\n",
    "    X_test -- Tensor, test input,\n",
    "    Y_test -- Tensor, test output target,\n",
    "    minibatch_size -- int, number of training samples per batch,\n",
    "    num_epochs -- int, number of training epochs,\n",
    "    seed -- int, seed of random number\n",
    "    \"\"\"\n",
    "    for epoch in range(num_epochs):\n",
    "\n",
    "        seed = seed + 1\n",
    "        minibatches = random_mini_batches(train_x, train_y, minibatch_size, seed)\n",
    "\n",
    "        for step, (minibatch_x, minibatch_y) in enumerate(minibatches):\n",
    "            x = torch.tensor(minibatch_x, device=device, dtype=dtype, requires_grad=False)\n",
    "            y = torch.LongTensor(minibatch_y, device=device)\n",
    "            output = model(x)               # cnn output\n",
    "            loss = loss_func(output, y)     # cross entropy loss\n",
    "            optimizer.zero_grad()           # clear gradients for this training step\n",
    "            loss.backward()                 # backpropagation, compute gradients\n",
    "            optimizer.step()                # apply gradients\n",
    "\n",
    "        print('Epoch: ', epoch+1, '| train loss: %.4f' % loss.data.cpu().numpy())\n",
    "\n",
    "    test_output = model(X_test)\n",
    "    train_output = model(torch.tensor(train_x, dtype=dtype, device=device))\n",
    "    pred_y = torch.max(test_output, 1)[1].data.squeeze()\n",
    "    pred_train_y = torch.max(train_output, 1)[1].data.squeeze()\n",
    "    accuracy_test = float(sum(pred_y == Y_test)) / float(Y_test.size(0)) * 100\n",
    "    accuracy_train = float(sum(pred_train_y.cpu().numpy() == train_y)) / float(train_y.shape[0]) * 100\n",
    "    print('\\nTrain accuracy: %.1f\\n' % accuracy_train, 'Test accuracy: %.1f' % accuracy_test)"
   ]
  },
  {
   "cell_type": "code",
   "execution_count": 17,
   "metadata": {},
   "outputs": [
    {
     "name": "stdout",
     "output_type": "stream",
     "text": [
      "Epoch:  1 | train loss: 1.3159\n",
      "Epoch:  2 | train loss: 1.3400\n",
      "Epoch:  3 | train loss: 0.6223\n",
      "Epoch:  4 | train loss: 0.2915\n",
      "Epoch:  5 | train loss: 0.2033\n",
      "Epoch:  6 | train loss: 0.0617\n",
      "Epoch:  7 | train loss: 0.0924\n",
      "Epoch:  8 | train loss: 0.0309\n",
      "Epoch:  9 | train loss: 0.0350\n",
      "Epoch:  10 | train loss: 0.0209\n",
      "Epoch:  11 | train loss: 0.0115\n",
      "Epoch:  12 | train loss: 0.0120\n",
      "Epoch:  13 | train loss: 0.0065\n",
      "Epoch:  14 | train loss: 0.0037\n",
      "Epoch:  15 | train loss: 0.0038\n",
      "Epoch:  16 | train loss: 0.0042\n",
      "Epoch:  17 | train loss: 0.0027\n",
      "Epoch:  18 | train loss: 0.0022\n",
      "Epoch:  19 | train loss: 0.0015\n",
      "Epoch:  20 | train loss: 0.0024\n",
      "\n",
      "Train accuracy: 100.0\n",
      " Test accuracy: 93.3\n"
     ]
    }
   ],
   "source": [
    "train(train_set_x, train_set_y, X_test, Y_test)"
   ]
  },
  {
   "cell_type": "code",
   "execution_count": null,
   "metadata": {},
   "outputs": [],
   "source": []
  }
 ],
 "metadata": {
  "kernelspec": {
   "display_name": "Python 3 (ipykernel)",
   "language": "python",
   "name": "python3"
  },
  "language_info": {
   "codemirror_mode": {
    "name": "ipython",
    "version": 3
   },
   "file_extension": ".py",
   "mimetype": "text/x-python",
   "name": "python",
   "nbconvert_exporter": "python",
   "pygments_lexer": "ipython3",
   "version": "3.11.3"
  }
 },
 "nbformat": 4,
 "nbformat_minor": 4
}
